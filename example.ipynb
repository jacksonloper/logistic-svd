{
 "cells": [
  {
   "cell_type": "code",
   "execution_count": 24,
   "metadata": {
    "scrolled": false
   },
   "outputs": [
    {
     "name": "stdout",
     "output_type": "stream",
     "text": [
      "The autoreload extension is already loaded. To reload it, use:\n",
      "  %reload_ext autoreload\n"
     ]
    }
   ],
   "source": [
    "%load_ext autoreload\n",
    "%autoreload 2\n",
    "\n",
    "import numpy as np\n",
    "import numpy.random as npr\n",
    "import logistic_svd.simpletqdm\n",
    "logistic_svd.simpletqdm.tqdm_type='notebook'\n",
    "import tqdm\n",
    "import types\n",
    "\n",
    "import matplotlib.pylab as plt\n",
    "%matplotlib inline"
   ]
  },
  {
   "cell_type": "markdown",
   "metadata": {},
   "source": [
    "Let \n",
    "\n",
    "$$\\Gamma_{cg} = \\sum_k \\alpha_{gk} z_{ck}$$\n",
    "$$L = \\sum_{cg} (X_{cg}-.5)\\Gamma_{cg} - \\log 2 \\cosh \\Gamma_{cg}/2$$\n",
    "$$R_\\alpha = \\sum_{g} -.5\\alpha^T D_\\alpha \\alpha + \\alpha^T d_\\alpha$$\n",
    "$$R_z = \\sum_{c} -.5z^T D_z z + z^T d_z$$\n",
    "\n",
    "Goal is to maximize $L+R_\\alpha +R_z$ as a funciton of $z,\\alpha$.\n"
   ]
  },
  {
   "cell_type": "markdown",
   "metadata": {},
   "source": [
    "# example (with numpy)"
   ]
  },
  {
   "cell_type": "code",
   "execution_count": 64,
   "metadata": {},
   "outputs": [],
   "source": [
    "import logistic_svd.numpy_version # <-- slow but doesn't need torch"
   ]
  },
  {
   "cell_type": "code",
   "execution_count": 65,
   "metadata": {},
   "outputs": [],
   "source": [
    "# generate some simulated data\n",
    "Nc=900\n",
    "Ng=800\n",
    "Nk=2\n",
    "z=npr.randn(Nc,Nk)\n",
    "alpha=npr.randn(Ng,Nk)\n",
    "data = npr.rand(Nc,Ng) < (1 / (1+np.exp(-z@alpha.T)))\n",
    "\n",
    "truelik=logistic_svd.numpy_version.logistic_likelihood(data,z,alpha)"
   ]
  },
  {
   "cell_type": "code",
   "execution_count": 68,
   "metadata": {},
   "outputs": [],
   "source": [
    "def train(data,z_guess,alpha_guess):\n",
    "    '''\n",
    "    An example training function.  Tweak to suit.\n",
    "    '''\n",
    "\n",
    "    # train\n",
    "    liks=[]\n",
    "    for i in tqdm.tqdm_notebook(range(20)):\n",
    "        # get current objective value\n",
    "        liks.append(logistic_svd.numpy_version.logistic_likelihood(data,z_guess,alpha_guess))\n",
    "\n",
    "        # update alpha\n",
    "        alpha_guess= logistic_svd.numpy_version.update_alpha(data,z_guess,alpha_guess)\n",
    "\n",
    "        # get current objective value\n",
    "        liks.append(logistic_svd.numpy_version.logistic_likelihood(data,z_guess,alpha_guess))\n",
    "\n",
    "        # update z (the problem is symmetric; just update alpha on the transpose...)\n",
    "        z_guess= logistic_svd.numpy_version.update_alpha(data.T,alpha_guess,z_guess)\n",
    "\n",
    "    # get final objective\n",
    "    liks.append(logistic_svd.numpy_version.logistic_likelihood(data,z_guess,alpha_guess))\n",
    "    return z_guess,alpha_guess,liks\n"
   ]
  },
  {
   "cell_type": "code",
   "execution_count": 79,
   "metadata": {},
   "outputs": [],
   "source": [
    "def plot_accuracy(z,alpha,z_guess,alpha_guess):\n",
    "    '''\n",
    "    This gives one way of assessing how well the learned model did at \n",
    "    learning the original parameters.  \n",
    "    '''\n",
    "    estimated_logits = z_guess @ alpha_guess.T\n",
    "    true_logits = z@alpha.T\n",
    "\n",
    "    # plot a subset of the logits (truth vs estimated)\n",
    "    perm=npr.permutation(np.prod(true_logits.shape))[:1000]\n",
    "    plt.scatter(true_logits.ravel()[perm],estimated_logits.ravel()[perm],alpha=.1)\n",
    "\n",
    "    MX1=np.abs(true_logits.ravel()[perm]).max()\n",
    "    MX2=np.abs(estimated_logits.ravel()[perm]).max()\n",
    "    MX=np.max([MX1,MX2])\n",
    "    plt.plot([-MX,MX],[-MX,MX],'r-',label='perfect fit')\n",
    "    plt.xlabel(\"true logit\")\n",
    "    plt.ylabel(\"estimates\")\n",
    "    plt.title('logits for each entry')\n",
    "    plt.legend()\n"
   ]
  },
  {
   "cell_type": "code",
   "execution_count": 69,
   "metadata": {},
   "outputs": [
    {
     "data": {
      "application/vnd.jupyter.widget-view+json": {
       "model_id": "211bc0cb972744e4959d0a34d56ad27d",
       "version_major": 2,
       "version_minor": 0
      },
      "text/plain": [
       "HBox(children=(IntProgress(value=0, max=20), HTML(value='')))"
      ]
     },
     "metadata": {},
     "output_type": "display_data"
    },
    {
     "name": "stdout",
     "output_type": "stream",
     "text": [
      "\n"
     ]
    },
    {
     "data": {
      "image/png": "[encoded data removed]",
      "text/plain": [
       "<Figure size 432x288 with 2 Axes>"
      ]
     },
     "metadata": {
      "needs_background": "light"
     },
     "output_type": "display_data"
    }
   ],
   "source": [
    "# try training using SVD as an initialziation\n",
    "# do we get something good?\n",
    "\n",
    "# a place to store the results\n",
    "numpy_results = types.SimpleNamespace()\n",
    "\n",
    "# initialize\n",
    "numpy_results.z_init,numpy_results.alpha_init=logistic_svd.numpy_version.initialize(data,Nk)\n",
    "\n",
    "# train\n",
    "numpy_results.z_final,numpy_results.alpha_final,numpy_results.liks=\\\n",
    "    train(data,numpy_results.z_init,numpy_results.alpha_init)\n",
    "\n",
    "# plot convergence \n",
    "plt.subplot(1,2,1)\n",
    "plt.plot(numpy_results.liks,label='learned likelihood')\n",
    "plt.plot(np.ones(len(liks))*truelik,'k--',label='true likelihood')\n",
    "plt.xlabel(\"number of updates\")\n",
    "plt.ylabel(\"log likelihood\")\n",
    "plt.legend()\n",
    "\n",
    "# plot accuracy\n",
    "plt.subplot(1,2,2)\n",
    "plot_accuracy(z,alpha,numpy_results.z_final,numpy_results.alpha_final)\n",
    "\n",
    "plt.tight_layout()"
   ]
  },
  {
   "cell_type": "markdown",
   "metadata": {},
   "source": [
    "Two things to notice.  First, we don't get a perfect fit on the logits.  Second, we obtain a likelihood which is HIGHER THAN THE TRUTH.  This is because of overfitting."
   ]
  },
  {
   "cell_type": "markdown",
   "metadata": {},
   "source": [
    "# torch"
   ]
  },
  {
   "cell_type": "markdown",
   "metadata": {},
   "source": [
    "We can do the same thing with torch."
   ]
  },
  {
   "cell_type": "code",
   "execution_count": 70,
   "metadata": {},
   "outputs": [],
   "source": [
    "import torch\n",
    "import logistic_svd.torch_version # <-- can use GPU\n",
    "\n",
    "# if you have a GPU, change this to 'cuda'\n",
    "device='cpu'\n",
    "\n",
    "# send data to torch\n",
    "datat=torch.tensor(np.require(data,dtype=np.uint8),device=device,dtype=torch.uint8)"
   ]
  },
  {
   "cell_type": "code",
   "execution_count": 87,
   "metadata": {},
   "outputs": [],
   "source": [
    "def train(data,z_guess,alpha_guess,n_iter):\n",
    "    '''\n",
    "    An example training function for torch code.  Tweak to suit.\n",
    "    '''\n",
    "\n",
    "    # train\n",
    "    liks=[]\n",
    "    for i in tqdm.tqdm_notebook(range(n_iter)):\n",
    "        # get current objective value\n",
    "        liks.append(logistic_svd.torch_version.logistic_likelihood(data,z_guess,alpha_guess))\n",
    "\n",
    "        # update alpha\n",
    "        alpha_guess= logistic_svd.torch_version.update_alpha(data,z_guess,alpha_guess)\n",
    "\n",
    "        # get current objective value\n",
    "        liks.append(logistic_svd.torch_version.logistic_likelihood(data,z_guess,alpha_guess))\n",
    "\n",
    "        # update z (the problem is symmetric; just update alpha on the transpose...)\n",
    "        z_guess= logistic_svd.torch_version.update_alpha(data.t(),alpha_guess,z_guess)\n",
    "\n",
    "    # get final objective\n",
    "    liks.append(logistic_svd.torch_version.logistic_likelihood(data,z_guess,alpha_guess))\n",
    "    return z_guess,alpha_guess,liks\n"
   ]
  },
  {
   "cell_type": "code",
   "execution_count": 72,
   "metadata": {},
   "outputs": [
    {
     "data": {
      "application/vnd.jupyter.widget-view+json": {
       "model_id": "45e43a851f3e4db99a5ad35a1fbafb3c",
       "version_major": 2,
       "version_minor": 0
      },
      "text/plain": [
       "HBox(children=(IntProgress(value=0, max=20), HTML(value='')))"
      ]
     },
     "metadata": {},
     "output_type": "display_data"
    },
    {
     "name": "stdout",
     "output_type": "stream",
     "text": [
      "\n"
     ]
    },
    {
     "data": {
      "image/png": "[encoded data removed]",
      "text/plain": [
       "<Figure size 432x288 with 2 Axes>"
      ]
     },
     "metadata": {
      "needs_background": "light"
     },
     "output_type": "display_data"
    }
   ],
   "source": [
    "torch_results=types.SimpleNamespace()\n",
    "\n",
    "# use the same initialization,\n",
    "# do training on torch\n",
    "z_guesst=torch.tensor(numpy_results.z_init,device=device)\n",
    "alpha_guesst=torch.tensor(numpy_results.alpha_init,device=device)\n",
    "z_guesst,alpha_guesst,liks=train(datat,z_guesst,alpha_guesst)\n",
    "\n",
    "# send back to numpy land\n",
    "torch_results.z_final=z_guesst.detach().cpu().numpy()\n",
    "torch_results.alpha_final=alpha_guesst.detach().cpu().numpy()\n",
    "torch_results.liks=liks\n",
    "\n",
    "# plot convergence \n",
    "plt.subplot(1,2,1)\n",
    "plt.plot(torch_results.liks,label='learned likelihood')\n",
    "plt.plot(np.ones(len(liks))*truelik,'k--',label='true likelihood')\n",
    "plt.xlabel(\"number of updates\")\n",
    "plt.ylabel(\"log likelihood\")\n",
    "plt.legend()\n",
    "\n",
    "# plot accuracy\n",
    "plt.subplot(1,2,2)\n",
    "plot_accuracy(z,alpha,torch_results.z_final,torch_results.alpha_final)\n",
    "\n",
    "plt.tight_layout()"
   ]
  },
  {
   "cell_type": "markdown",
   "metadata": {},
   "source": [
    "# sanity check: torch and numpy give the same results:"
   ]
  },
  {
   "cell_type": "code",
   "execution_count": 73,
   "metadata": {},
   "outputs": [
    {
     "name": "stdout",
     "output_type": "stream",
     "text": [
      "8.43769498715119e-15\n",
      "8.43769498715119e-15\n"
     ]
    }
   ],
   "source": [
    "print(np.abs(torch_results.z_final-numpy_results.z_final).max())\n",
    "print(np.abs(torch_results.alpha_final-numpy_results.alpha_final).max())"
   ]
  },
  {
   "cell_type": "markdown",
   "metadata": {},
   "source": [
    "# regularization"
   ]
  },
  {
   "cell_type": "markdown",
   "metadata": {},
   "source": [
    "Regularization can sometimes help"
   ]
  },
  {
   "cell_type": "code",
   "execution_count": 85,
   "metadata": {},
   "outputs": [],
   "source": [
    "# generate some simulated data\n",
    "Nc=800\n",
    "Ng=900\n",
    "Nk=5\n",
    "z=npr.randn(Nc,Nk)-3\n",
    "alpha=npr.rand(Ng,Nk)\n",
    "data = npr.rand(Nc,Ng) < (1 / (1+np.exp(-z@alpha.T)))\n",
    "\n",
    "truelik=logistic_svd.numpy_version.logistic_likelihood(data,z,alpha)\n",
    "\n",
    "# send data to torch\n",
    "datat=torch.tensor(np.require(data,dtype=np.uint8),device=device,dtype=torch.uint8)"
   ]
  },
  {
   "cell_type": "code",
   "execution_count": 90,
   "metadata": {},
   "outputs": [
    {
     "data": {
      "application/vnd.jupyter.widget-view+json": {
       "model_id": "4a39b40da82b438e984cf71168db851d",
       "version_major": 2,
       "version_minor": 0
      },
      "text/plain": [
       "HBox(children=(IntProgress(value=0, max=200), HTML(value='')))"
      ]
     },
     "metadata": {},
     "output_type": "display_data"
    },
    {
     "name": "stdout",
     "output_type": "stream",
     "text": [
      "\n"
     ]
    },
    {
     "data": {
      "image/png": "[encoded data removed]",
      "text/plain": [
       "<Figure size 432x288 with 2 Axes>"
      ]
     },
     "metadata": {
      "needs_background": "light"
     },
     "output_type": "display_data"
    }
   ],
   "source": [
    "# UNREGULARIZED\n",
    "torch_results=types.SimpleNamespace()\n",
    "\n",
    "# initialization on numpy\n",
    "z_init,alpha_init=logistic_svd.numpy_version.initialize(data,Nk)\n",
    "\n",
    "# do training on torch\n",
    "z_guesst=torch.tensor(z_init,device=device)\n",
    "alpha_guesst=torch.tensor(alpha_init,device=device)\n",
    "z_guesst,alpha_guesst,liks=train(datat,z_guesst,alpha_guesst,n_iter=200)\n",
    "\n",
    "# send back to numpy land\n",
    "torch_results.z_final=z_guesst.detach().cpu().numpy()\n",
    "torch_results.alpha_final=alpha_guesst.detach().cpu().numpy()\n",
    "torch_results.liks=liks\n",
    "\n",
    "# plot convergence \n",
    "plt.subplot(1,2,1)\n",
    "plt.plot(torch_results.liks,label='learned likelihood')\n",
    "plt.plot(np.ones(len(liks))*truelik,'k--',label='true likelihood')\n",
    "plt.xlabel(\"number of updates\")\n",
    "plt.ylabel(\"log likelihood\")\n",
    "plt.legend()\n",
    "\n",
    "# plot accuracy\n",
    "plt.subplot(1,2,2)\n",
    "plot_accuracy(z,alpha,torch_results.z_final,torch_results.alpha_final)\n",
    "\n",
    "plt.tight_layout()"
   ]
  },
  {
   "cell_type": "markdown",
   "metadata": {},
   "source": [
    "Above we see that we sometimes estimate logits of like -40, where actually the true logits are never that small.  Some regularization can keep the logits sane.  Here we apply a quadratic penalty to the z and alpha loadings:"
   ]
  },
  {
   "cell_type": "code",
   "execution_count": 98,
   "metadata": {},
   "outputs": [
    {
     "data": {
      "application/vnd.jupyter.widget-view+json": {
       "model_id": "26738c2336424e538b73be8286fd4110",
       "version_major": 2,
       "version_minor": 0
      },
      "text/plain": [
       "HBox(children=(IntProgress(value=0, max=200), HTML(value='')))"
      ]
     },
     "metadata": {},
     "output_type": "display_data"
    },
    {
     "name": "stdout",
     "output_type": "stream",
     "text": [
      "\n"
     ]
    },
    {
     "data": {
      "image/png": "[encoded data removed]",
      "text/plain": [
       "<Figure size 432x288 with 2 Axes>"
      ]
     },
     "metadata": {
      "needs_background": "light"
     },
     "output_type": "display_data"
    }
   ],
   "source": [
    "# REGULARIZED\n",
    "\n",
    "def train_regularized(data,z_guess,alpha_guess,n_iter):\n",
    "    '''\n",
    "    An example training function for torch code.  Tweak to suit.\n",
    "    '''\n",
    "\n",
    "    # train\n",
    "    liks=[]\n",
    "    for i in tqdm.tqdm_notebook(range(n_iter)):\n",
    "        # get current objective value\n",
    "        liks.append(logistic_svd.torch_version.logistic_likelihood(data,z_guess,alpha_guess))\n",
    "\n",
    "        # update alpha\n",
    "        alpha_guess= logistic_svd.torch_version.update_alpha(data,z_guess,alpha_guess,reg_mtx=.6)\n",
    "\n",
    "        # get current objective value\n",
    "        liks.append(logistic_svd.torch_version.logistic_likelihood(data,z_guess,alpha_guess))\n",
    "\n",
    "        # update z (the problem is symmetric; just update alpha on the transpose...)\n",
    "        z_guess= logistic_svd.torch_version.update_alpha(data.t(),alpha_guess,z_guess,reg_mtx=.6)\n",
    "\n",
    "    # get final objective\n",
    "    liks.append(logistic_svd.torch_version.logistic_likelihood(data,z_guess,alpha_guess))\n",
    "    return z_guess,alpha_guess,liks\n",
    "\n",
    "\n",
    "torch_results=types.SimpleNamespace()\n",
    "\n",
    "# initialization on numpy\n",
    "z_init,alpha_init=logistic_svd.numpy_version.initialize(data,Nk)\n",
    "\n",
    "# do training on torch\n",
    "z_guesst=torch.tensor(z_init,device=device)\n",
    "alpha_guesst=torch.tensor(alpha_init,device=device)\n",
    "z_guesst,alpha_guesst,liks=train_regularized(datat,z_guesst,alpha_guesst,n_iter=200)\n",
    "\n",
    "# send back to numpy land\n",
    "torch_results.z_final=z_guesst.detach().cpu().numpy()\n",
    "torch_results.alpha_final=alpha_guesst.detach().cpu().numpy()\n",
    "torch_results.liks=liks\n",
    "\n",
    "# plot convergence \n",
    "plt.subplot(1,2,1)\n",
    "plt.plot(torch_results.liks,label='learned likelihood')\n",
    "plt.plot(np.ones(len(liks))*truelik,'k--',label='true likelihood')\n",
    "plt.xlabel(\"number of updates\")\n",
    "plt.ylabel(\"log likelihood\")\n",
    "plt.legend()\n",
    "\n",
    "# plot accuracy\n",
    "plt.subplot(1,2,2)\n",
    "plot_accuracy(z,alpha,torch_results.z_final,torch_results.alpha_final)\n",
    "\n",
    "plt.tight_layout()"
   ]
  },
  {
   "cell_type": "markdown",
   "metadata": {},
   "source": [
    "# test consistency between torch and numpy versions"
   ]
  },
  {
   "cell_type": "code",
   "execution_count": 151,
   "metadata": {},
   "outputs": [],
   "source": [
    "import numpy as np\n",
    "import numpy.random as npr\n",
    "import logistic_svd.simpletqdm\n",
    "logistic_svd.simpletqdm.tqdm_type='notebook'\n",
    "import tqdm\n",
    "import types\n",
    "import logistic_svd.numpy_version # <-- slow but doesn't need torch\n",
    "import torch\n",
    "import logistic_svd.torch_version # <-- can use GPU\n",
    "device='cpu'\n",
    "\n",
    "\n",
    "Nc=50\n",
    "Ng=80\n",
    "Nk=5\n",
    "data=np.require(npr.randn(Nc,Ng)>.5,dtype=np.uint8)\n",
    "datat=torch.tensor(data,device=device)\n",
    "\n",
    "alpha=npr.randn(Ng,Nk)\n",
    "z=npr.randn(Nc,Nk)\n",
    "\n",
    "alphat=torch.tensor(alpha,device=device)\n",
    "zt=torch.tensor(z,device=device)"
   ]
  },
  {
   "cell_type": "code",
   "execution_count": 152,
   "metadata": {},
   "outputs": [
    {
     "name": "stdout",
     "output_type": "stream",
     "text": [
      "6.661338147750939e-16\n"
     ]
    }
   ],
   "source": [
    "A1=logistic_svd.torch_version.update_alpha(datat,zt,alphat,binsize=10).detach().cpu().numpy()\n",
    "A2=logistic_svd.numpy_version.update_alpha(data,z,alpha)\n",
    "print(np.abs(A1-A2).max())"
   ]
  },
  {
   "cell_type": "code",
   "execution_count": 153,
   "metadata": {},
   "outputs": [
    {
     "name": "stdout",
     "output_type": "stream",
     "text": [
      "4.440892098500626e-16\n"
     ]
    }
   ],
   "source": [
    "A1=logistic_svd.torch_version.update_alpha(datat,zt,alphat,reg_mtx=3.4,binsize=10).detach().cpu().numpy()\n",
    "A2=logistic_svd.numpy_version.update_alpha(data,z,alpha,reg_mtx=3.4)\n",
    "print(np.abs(A1-A2).max())"
   ]
  },
  {
   "cell_type": "code",
   "execution_count": 154,
   "metadata": {},
   "outputs": [
    {
     "name": "stdout",
     "output_type": "stream",
     "text": [
      "5.551115123125783e-16\n"
     ]
    }
   ],
   "source": [
    "reg_mtx = [npr.randn(Nk,Nk) for i in range(Ng)]\n",
    "reg_mtx = [x@x.T for x in reg_mtx]\n",
    "reg_mtx=np.array(reg_mtx)\n",
    "\n",
    "reg_mtxt=torch.tensor(reg_mtx,device=device)\n",
    "\n",
    "A1=logistic_svd.torch_version.update_alpha(datat,zt,alphat,reg_mtx=reg_mtxt,binsize=10).detach().cpu().numpy()\n",
    "A2=logistic_svd.numpy_version.update_alpha(data,z,alpha,reg_mtx=reg_mtx)\n",
    "print(np.abs(A1-A2).max())"
   ]
  },
  {
   "cell_type": "code",
   "execution_count": 155,
   "metadata": {},
   "outputs": [
    {
     "name": "stdout",
     "output_type": "stream",
     "text": [
      "9.094947017729282e-13\n"
     ]
    }
   ],
   "source": [
    "A1=logistic_svd.torch_version.logistic_likelihood(datat,zt,alphat)\n",
    "A2=logistic_svd.numpy_version.logistic_likelihood(data,z,alpha)\n",
    "print(np.abs(A1-A2))"
   ]
  },
  {
   "cell_type": "code",
   "execution_count": 156,
   "metadata": {},
   "outputs": [
    {
     "name": "stdout",
     "output_type": "stream",
     "text": [
      "0.0\n"
     ]
    }
   ],
   "source": [
    "A1=logistic_svd.torch_version.quadratic(zt).detach().cpu().numpy()\n",
    "A2=logistic_svd.numpy_version.quadratic(z)\n",
    "print(np.abs(A1-A2).max())"
   ]
  },
  {
   "cell_type": "code",
   "execution_count": 157,
   "metadata": {},
   "outputs": [
    {
     "name": "stdout",
     "output_type": "stream",
     "text": [
      "0.0\n"
     ]
    }
   ],
   "source": [
    "\n",
    "A1=logistic_svd.torch_version.quadratic(zt,reg_mtx=3.0).detach().cpu().numpy()\n",
    "A2=logistic_svd.numpy_version.quadratic(z,reg_mtx=3.0)\n",
    "print(np.abs(A1-A2).max())"
   ]
  },
  {
   "cell_type": "code",
   "execution_count": 158,
   "metadata": {},
   "outputs": [
    {
     "name": "stdout",
     "output_type": "stream",
     "text": [
      "1.4210854715202004e-14\n"
     ]
    }
   ],
   "source": [
    "\n",
    "reg_mtx = [npr.randn(Nk,Nk) for i in range(Nc)]\n",
    "reg_mtx = [x@x.T for x in reg_mtx]\n",
    "reg_mtx=np.array(reg_mtx)\n",
    "\n",
    "reg_mtxt=torch.tensor(reg_mtx,device=device)\n",
    "\n",
    "A1=logistic_svd.torch_version.quadratic(zt,reg_mtx=reg_mtxt).detach().cpu().numpy()\n",
    "A2=logistic_svd.numpy_version.quadratic(z,reg_mtx=reg_mtx)\n",
    "print(np.abs(A1-A2).max())"
   ]
  },
  {
   "cell_type": "code",
   "execution_count": 159,
   "metadata": {},
   "outputs": [
    {
     "name": "stdout",
     "output_type": "stream",
     "text": [
      "0.0\n"
     ]
    }
   ],
   "source": [
    "\n",
    "reg_mtx = npr.randn(Nk,Nk)\n",
    "reg_mtx = reg_mtx@reg_mtx.T\n",
    "\n",
    "reg_mtxt=torch.tensor(reg_mtx,device=device)\n",
    "\n",
    "A1=logistic_svd.torch_version.quadratic(zt,reg_mtx=reg_mtxt).detach().cpu().numpy()\n",
    "A2=logistic_svd.numpy_version.quadratic(z,reg_mtx=reg_mtx)\n",
    "print(np.abs(A1-A2).max())"
   ]
  },
  {
   "cell_type": "code",
   "execution_count": 160,
   "metadata": {},
   "outputs": [
    {
     "name": "stdout",
     "output_type": "stream",
     "text": [
      "0.0\n"
     ]
    }
   ],
   "source": [
    "vec=npr.randn(Nc,Nk)\n",
    "vect=torch.tensor(vec,device=device)\n",
    "\n",
    "A1=logistic_svd.torch_version.quadratic(zt,reg_vec=vect).detach().cpu().numpy()\n",
    "A2=logistic_svd.numpy_version.quadratic(z,reg_vec=vec)\n",
    "print(np.abs(A1-A2).max())"
   ]
  },
  {
   "cell_type": "code",
   "execution_count": null,
   "metadata": {},
   "outputs": [],
   "source": []
  }
 ],
 "metadata": {
  "kernelspec": {
   "display_name": "Python 3",
   "language": "python",
   "name": "python3"
  },
  "language_info": {
   "codemirror_mode": {
    "name": "ipython",
    "version": 3
   },
   "file_extension": ".py",
   "mimetype": "text/x-python",
   "name": "python",
   "nbconvert_exporter": "python",
   "pygments_lexer": "ipython3",
   "version": "3.6.8"
  }
 },
 "nbformat": 4,
 "nbformat_minor": 2
}
